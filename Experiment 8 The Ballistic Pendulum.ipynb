{
 "cells": [
  {
   "cell_type": "code",
   "execution_count": 2,
   "id": "e5be139f",
   "metadata": {},
   "outputs": [],
   "source": [
    "import numpy as np\n",
    "import matplotlib.pyplot as plt"
   ]
  },
  {
   "cell_type": "code",
   "execution_count": 27,
   "id": "9db2484c",
   "metadata": {},
   "outputs": [],
   "source": [
    "# Experiment 8 The Ballistic Pendulum\n",
    "M = 0.3121 # kg\n",
    "d = 0.285 # m\n",
    "I = 0.0267 # kg * m^2\n",
    "g = 9.8 # m/s^2\n",
    "\n",
    "mass_of_steel_ball = .066 # kg\n",
    "distance_from_axis = 0.3 # m\n",
    "\n",
    "angle_measure_1 = [17.5, 27.5, 37.1]\n",
    "angle_measure_2 = [17.5, 27.5, 37.5]\n",
    "angle_measure_3 = [17.5, 27.5, 37.5]"
   ]
  },
  {
   "cell_type": "code",
   "execution_count": 5,
   "id": "de101bbd",
   "metadata": {},
   "outputs": [],
   "source": [
    "average_angle = [None] * 3\n",
    "height_of_rise = [None] * 3\n",
    "delta_U_system = [None] * 3\n",
    "post_collision = [None] * 3\n",
    "angular_momentum = [None] * 3\n",
    "ball_launch_speed = [None] * 3\n",
    "ball_initial = [None] * 3\n",
    "kinetic_energy_lost = [None] * 3\n",
    "K_lost_initial = [None] * 3"
   ]
  },
  {
   "cell_type": "code",
   "execution_count": 53,
   "id": "63be3cc7",
   "metadata": {},
   "outputs": [
    {
     "name": "stdout",
     "output_type": "stream",
     "text": [
      "[17.5, 27.5, 37.4]\n"
     ]
    }
   ],
   "source": [
    "# Calculate Average of three angles\n",
    "def average(x, y, z):\n",
    "    a = x + y\n",
    "    n  = a + z\n",
    "    n = n/3\n",
    "    return n\n",
    "\n",
    "for i in range(0, len(average_angle)):\n",
    "    average_angle[i] = round(average(angle_measure_1[i], angle_measure_2[i], angle_measure_3[i]),1)\n",
    "\n",
    "print(average_angle)"
   ]
  },
  {
   "cell_type": "code",
   "execution_count": 54,
   "id": "95d25573",
   "metadata": {},
   "outputs": [
    {
     "name": "stdout",
     "output_type": "stream",
     "text": [
      "[0.0132, 0.0322, 0.0586]\n"
     ]
    }
   ],
   "source": [
    "for i in range(0, len(height_of_rise)):\n",
    "    height_of_rise[i] = round( d * (1 - np.cos(np.radians(average_angle[i]))) , 4)\n",
    "\n",
    "print(height_of_rise)"
   ]
  },
  {
   "cell_type": "code",
   "execution_count": 58,
   "id": "b3376b5e",
   "metadata": {},
   "outputs": [
    {
     "name": "stdout",
     "output_type": "stream",
     "text": [
      "[0.0403, 0.0985, 0.1792]\n"
     ]
    }
   ],
   "source": [
    "for i in range(0, len(delta_U_system)):\n",
    "    delta_U_system[i] = round( M * g * d * (1 - np.cos(np.radians(average_angle[i]))) , 4)\n",
    "\n",
    "print(delta_U_system)"
   ]
  },
  {
   "cell_type": "code",
   "execution_count": 59,
   "id": "f7971b49",
   "metadata": {},
   "outputs": [
    {
     "name": "stdout",
     "output_type": "stream",
     "text": [
      "[1.7384, 2.7162, 3.6639]\n"
     ]
    }
   ],
   "source": [
    "for i in range(0, len(post_collision)):\n",
    "    post_collision[i] = round( np.sqrt((2 * (M * g * (d * (1 - np.cos(np.radians(average_angle[i])) ) ) ) ) / I) , 4)\n",
    "\n",
    "print(post_collision)"
   ]
  },
  {
   "cell_type": "code",
   "execution_count": 60,
   "id": "3d52f3a6",
   "metadata": {},
   "outputs": [
    {
     "name": "stdout",
     "output_type": "stream",
     "text": [
      "[0.284, 0.444, 0.599]\n"
     ]
    }
   ],
   "source": [
    "for i in range(0, len(angular_momentum)):\n",
    "    angular_momentum[i] = round( np.sqrt((2 * (M * g * (d * (1 - np.cos(np.radians(average_angle[i])) ) ) ) )) , 3)\n",
    "\n",
    "print(angular_momentum)"
   ]
  },
  {
   "cell_type": "code",
   "execution_count": 39,
   "id": "c59004d1",
   "metadata": {},
   "outputs": [
    {
     "name": "stdout",
     "output_type": "stream",
     "text": [
      "[58.939, 87.323, 15.455]\n"
     ]
    }
   ],
   "source": [
    "for i in range(0, len(ball_launch_speed)):\n",
    "    ball_launch_speed[i] = round( angular_momentum[i]/(mass_of_steel_ball * distance_from_axis), 3)\n",
    "\n",
    "print(ball_launch_speed)"
   ]
  },
  {
   "cell_type": "code",
   "execution_count": 44,
   "id": "5b5cf964",
   "metadata": {},
   "outputs": [
    {
     "name": "stdout",
     "output_type": "stream",
     "text": [
      "[114.636, 251.635, 7.882]\n"
     ]
    }
   ],
   "source": [
    "for i in range(0, len(ball_initial)):\n",
    "    ball_initial[i] = round( (1/2) * (mass_of_steel_ball * (ball_launch_speed[i]**2)), 3)\n",
    "\n",
    "print(ball_initial)"
   ]
  }
 ],
 "metadata": {
  "kernelspec": {
   "display_name": "Python 3",
   "language": "python",
   "name": "python3"
  },
  "language_info": {
   "codemirror_mode": {
    "name": "ipython",
    "version": 3
   },
   "file_extension": ".py",
   "mimetype": "text/x-python",
   "name": "python",
   "nbconvert_exporter": "python",
   "pygments_lexer": "ipython3",
   "version": "3.8.8"
  }
 },
 "nbformat": 4,
 "nbformat_minor": 5
}
