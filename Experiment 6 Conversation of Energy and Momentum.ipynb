{
 "cells": [
  {
   "cell_type": "code",
   "execution_count": 2,
   "id": "6ead6251",
   "metadata": {},
   "outputs": [],
   "source": [
    "import numpy as np\n",
    "import matplotlib.pyplot as plt"
   ]
  },
  {
   "cell_type": "code",
   "execution_count": 56,
   "id": "87710c87",
   "metadata": {},
   "outputs": [],
   "source": [
    "mass_of_red_car = 0.25\n",
    "\n",
    "y1 = [.10, .12, .17, .22, .28]\n",
    "y2 = [.053, 0.06, 0.078, 0.097, 0.120]\n",
    "\n",
    "delta_h = [0.047, 0.060, 0.092, 0.123, 0.160]\n",
    "\n",
    "t1 = [0.60, 0.15, 0.20, 0.15, 0.65]\n",
    "t2 = [1.15, 0.30, 0.50, 0.20, 0.80]\n",
    "\n",
    "v1 = [0.11, 0.82, 0.17, 0.34, 0.48]\n",
    "v2 = [0.63, 0.98, 0.70, 0.46, 0.98]\n",
    "\n",
    "d = .5\n",
    "g = 9.8\n",
    "\n",
    "a = [0] * 5\n",
    "vf = [0] * 5\n",
    "Kf = [0] * 5\n",
    "delta_U = [0] * 5\n",
    "percentage_diff = [0] * 5"
   ]
  },
  {
   "cell_type": "code",
   "execution_count": 31,
   "id": "85114dbc",
   "metadata": {},
   "outputs": [
    {
     "name": "stdout",
     "output_type": "stream",
     "text": [
      "[0.945, 1.067, 1.767, 2.4, 3.333]\n"
     ]
    }
   ],
   "source": [
    "# Formula for finding acceleration: (v2-v1)/(t2-t1)\n",
    "\n",
    "for i in range(0, len(a)):\n",
    "    a[i] = round((v2[i]-v1[i])/(t2[i]-t1[i]), 3)\n",
    "\n",
    "print(a)"
   ]
  },
  {
   "cell_type": "code",
   "execution_count": 36,
   "id": "2d7abfec",
   "metadata": {},
   "outputs": [
    {
     "name": "stdout",
     "output_type": "stream",
     "text": [
      "[0.972, 1.033, 1.329, 1.549, 1.826]\n"
     ]
    }
   ],
   "source": [
    "# Formula for finding final velocity: sqrt(2*a*d)\n",
    "for i in range(0, len(vf)):\n",
    "    vf[i] = round(np.sqrt(2*a[i]*d), 3)\n",
    "                  \n",
    "print(vf)"
   ]
  },
  {
   "cell_type": "code",
   "execution_count": 43,
   "id": "8e8021b7",
   "metadata": {},
   "outputs": [
    {
     "name": "stdout",
     "output_type": "stream",
     "text": [
      "[0.118, 0.133, 0.221, 0.3, 0.417]\n"
     ]
    }
   ],
   "source": [
    "# Formula for Kf: (1/2)* m * (vf**2)\n",
    "for i in range(0, len(Kf)):\n",
    "    Kf[i] = round( (1/2) * mass_of_red_car * (vf[i]**2), 3)\n",
    "    \n",
    "print(Kf)"
   ]
  },
  {
   "cell_type": "code",
   "execution_count": 53,
   "id": "4566b153",
   "metadata": {},
   "outputs": [
    {
     "name": "stdout",
     "output_type": "stream",
     "text": [
      "[0.115, 0.147, 0.225, 0.301, 0.392]\n"
     ]
    }
   ],
   "source": [
    "# Formula for delta_U: mgh\n",
    "for i in range(0, len(delta_U)):\n",
    "    delta_U[i] = round( (mass_of_red_car * g * delta_h[i]), 3)\n",
    "    \n",
    "print(delta_U)"
   ]
  },
  {
   "cell_type": "code",
   "execution_count": 66,
   "id": "ada9cf3c",
   "metadata": {},
   "outputs": [
    {
     "data": {
      "text/plain": [
       "'# Formula for percentage_diff: (delta_U-Kf)/mean(delta_U,Kf)\\ndef average(n1, n2):\\n    np.mean(n1[i],n2[i])\\n\\nfor i in range(0, len(percentage_diff)):\\n   percentage_diff[i] = round( delta_U[i]-Kf[i]/average(delta_U, Kf) , 3)\\n    \\nprint(percentage_diff)'"
      ]
     },
     "execution_count": 66,
     "metadata": {},
     "output_type": "execute_result"
    }
   ],
   "source": [
    "'''# Formula for percentage_diff: (delta_U-Kf)/mean(delta_U,Kf)\n",
    "def average(n1, n2):\n",
    "    np.mean(n1[i],n2[i])\n",
    "\n",
    "for i in range(0, len(percentage_diff)):\n",
    "   percentage_diff[i] = round( delta_U[i]-Kf[i]/average(delta_U, Kf) , 3)\n",
    "    \n",
    "print(percentage_diff)'''"
   ]
  },
  {
   "cell_type": "code",
   "execution_count": 80,
   "id": "5fdf40c4",
   "metadata": {},
   "outputs": [
    {
     "name": "stdout",
     "output_type": "stream",
     "text": [
      "[0.003, 0.016, 0.015, 0.021, 0.046, 0.02]\n",
      "[0.005, 0.002, 0.0, 0.002, 0.008, 0.0]\n"
     ]
    }
   ],
   "source": [
    "Kfo = [None] * 6\n",
    "Kio = [None] * 6\n",
    "m1c = [.251, .251, .251, .501, .751, .501]\n",
    "m2c = [.75, .50, .25, .25, .25, .50]\n",
    "vfc = [-0.19, -0.12, 0.00, 0.08, 0.15, 0.04]\n",
    "vic = [0.16, 0.36, 0.34, 0.29, 0.35, 0.28]\n",
    "for i in range(0, len(Kfo)):\n",
    "    Kio[i] = round( (1/2) * m1c[i] * (vic[i]**2), 3)\n",
    "    Kfo[i] = round( (1/2) * m1c[i] * (vfc[i]**2), 3)\n",
    "    \n",
    "print(Kio)\n",
    "print(Kfo)"
   ]
  },
  {
   "cell_type": "code",
   "execution_count": 82,
   "id": "a6222307",
   "metadata": {},
   "outputs": [
    {
     "name": "stdout",
     "output_type": "stream",
     "text": [
      "[-0.08, -0.119, 0.001, 0.097, 0.175, 0.0]\n"
     ]
    }
   ],
   "source": [
    "# Predicted velocity\n",
    "pred_vf = [None] * 6\n",
    "\n",
    "for i in range(0, len(pred_vf)):\n",
    "    pred_vf[i] = round ( ((m1c[i] - m2c[i])/(m1c[i]+m2c[i])*vic[i]), 3)\n",
    "\n",
    "print(pred_vf)"
   ]
  }
 ],
 "metadata": {
  "kernelspec": {
   "display_name": "Python 3",
   "language": "python",
   "name": "python3"
  },
  "language_info": {
   "codemirror_mode": {
    "name": "ipython",
    "version": 3
   },
   "file_extension": ".py",
   "mimetype": "text/x-python",
   "name": "python",
   "nbconvert_exporter": "python",
   "pygments_lexer": "ipython3",
   "version": "3.8.8"
  }
 },
 "nbformat": 4,
 "nbformat_minor": 5
}
