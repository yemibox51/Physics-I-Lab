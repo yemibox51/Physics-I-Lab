{
 "cells": [
  {
   "cell_type": "code",
   "execution_count": 4,
   "id": "ca067cd5",
   "metadata": {},
   "outputs": [],
   "source": [
    "import numpy as np\n",
    "import matplotlib.pyplot as plt"
   ]
  },
  {
   "cell_type": "code",
   "execution_count": null,
   "id": "6a5e68e0",
   "metadata": {},
   "outputs": [],
   "source": [
    "# Procedure A\n",
    "m = 5\n",
    "ad_m = .013\n",
    "ad_m_90 = .015 \n",
    "g = 9.8\n",
    "\n",
    "f1 = ad_m * g\n",
    "f2 = ad_m_90 * g"
   ]
  },
  {
   "cell_type": "code",
   "execution_count": null,
   "id": "c671c26f",
   "metadata": {},
   "outputs": [
    {
     "name": "stdout",
     "output_type": "stream",
     "text": [
      "229.08561677997488\n"
     ]
    }
   ],
   "source": [
    "predicted_angle_pulley = 180 + np.degrees(np.arctan(f2/f1))\n",
    "\n",
    "print(predicted_angle_pulley)"
   ]
  },
  {
   "cell_type": "code",
   "execution_count": null,
   "id": "4a8604b1",
   "metadata": {},
   "outputs": [
    {
     "name": "stdout",
     "output_type": "stream",
     "text": [
      "0.019849433241279205\n"
     ]
    }
   ],
   "source": [
    "predicted_angle_equilibrium = np.sqrt((f1**2)+(f2**2)) / g\n",
    "\n",
    "print(predicted_angle_equilibrium)"
   ]
  },
  {
   "cell_type": "code",
   "execution_count": null,
   "id": "ad440111",
   "metadata": {},
   "outputs": [
    {
     "data": {
      "text/plain": [
       "[0.112, 0.112]"
      ]
     },
     "execution_count": 39,
     "metadata": {},
     "output_type": "execute_result"
    }
   ],
   "source": [
    "# Procedure B\n",
    "length_balance = 0.344 # m\n",
    "distance_holes = round(length_balance / 6, 3)\n",
    "\n",
    "f_mass = round(.20 * g, 3)\n",
    "f_mass_2 = round(.10 * g, 3)\n",
    "\n",
    "torque = [round(f_mass * distance_holes, 3), round(f_mass_2 * (distance_holes*2), 3)]\n",
    "torque"
   ]
  },
  {
   "cell_type": "code",
   "execution_count": null,
   "id": "ae7b61f5",
   "metadata": {},
   "outputs": [
    {
     "data": {
      "text/plain": [
       "0.1153061224489796"
      ]
     },
     "execution_count": 41,
     "metadata": {},
     "output_type": "execute_result"
    }
   ],
   "source": [
    "0.113/.98"
   ]
  }
 ],
 "metadata": {
  "interpreter": {
   "hash": "aee8b7b246df8f9039afb4144a1f6fd8d2ca17a180786b69acc140d282b71a49"
  },
  "kernelspec": {
   "display_name": "Python 3.9.5 64-bit",
   "name": "python3"
  },
  "language_info": {
   "codemirror_mode": {
    "name": "ipython",
    "version": 3
   },
   "file_extension": ".py",
   "mimetype": "text/x-python",
   "name": "python",
   "nbconvert_exporter": "python",
   "pygments_lexer": "ipython3",
   "version": "3.9.5"
  }
 },
 "nbformat": 4,
 "nbformat_minor": 5
}
