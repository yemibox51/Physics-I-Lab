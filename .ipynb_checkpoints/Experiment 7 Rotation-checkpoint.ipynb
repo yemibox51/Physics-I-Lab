{
 "cells": [
  {
   "cell_type": "code",
   "execution_count": 2,
   "id": "0101a2ed",
   "metadata": {},
   "outputs": [],
   "source": [
    "import numpy as np\n",
    "import matplotlib.pyplot as plt"
   ]
  },
  {
   "cell_type": "code",
   "execution_count": 19,
   "id": "9468633c",
   "metadata": {},
   "outputs": [],
   "source": [
    "mass_holder = 0.005 # in kg\n",
    "diameter_pulley = .05 # in m\n",
    "radius_pulley = .025 # in m\n",
    "g = 9.8"
   ]
  },
  {
   "cell_type": "code",
   "execution_count": 22,
   "id": "f756a055",
   "metadata": {},
   "outputs": [],
   "source": [
    "# Silver disk\n",
    "added_mass = [0.005, 0.006, 0.007]\n",
    "total_mass = [0.10, 0.11, 0.12]\n",
    "\n",
    "t1 = [.2, .45, .2]\n",
    "t2 = [.6, .1, .45]\n",
    "\n",
    "w1 = [14.78, 5.29, 22.57]\n",
    "w2 = [20.89, 14.59, 27.17]"
   ]
  },
  {
   "cell_type": "code",
   "execution_count": 50,
   "id": "fe1aef24",
   "metadata": {},
   "outputs": [
    {
     "name": "stdout",
     "output_type": "stream",
     "text": [
      "[15.275, -26.571, 18.4]\n"
     ]
    }
   ],
   "source": [
    "# Formula for angular acceleration: (w2 - w1)/(t2 - t1)\n",
    "angular_acceleration = [None] * 3\n",
    "def formula_aa(angular_acceleration, w1, w2, t1, t2):\n",
    "    for i in range(0, len(angular_acceleration)):\n",
    "        angular_acceleration[i] = round( (w2[i] - w1[i])/(t2[i] - t1[i]), 3)\n",
    "\n",
    "    print(angular_acceleration)\n",
    "formula_aa(angular_acceleration, w1, w2, t1, t2)"
   ]
  },
  {
   "cell_type": "code",
   "execution_count": 36,
   "id": "099a78de",
   "metadata": {},
   "outputs": [
    {
     "name": "stdout",
     "output_type": "stream",
     "text": [
      "[0.382, -0.664, 0.46]\n"
     ]
    }
   ],
   "source": [
    "# Formula for acceleration: angular_acceleration * radius_pulley\n",
    "a = [None] * 3\n",
    "def formula_a(a, angular_acceleration, radius_pulley):\n",
    "    for i in range(0, len(a)):\n",
    "        a[i] = round( (angular_acceleration[i] * radius_pulley), 3)\n",
    "    \n",
    "    print(a)\n",
    "formula_a(a, angular_acceleration, radius_pulley)"
   ]
  },
  {
   "cell_type": "code",
   "execution_count": 37,
   "id": "e49c3905",
   "metadata": {},
   "outputs": [
    {
     "name": "stdout",
     "output_type": "stream",
     "text": [
      "[0.942, 1.151, 1.121]\n"
     ]
    }
   ],
   "source": [
    "# Formula for tension: M * (g - a)\n",
    "T = [None] * 3\n",
    "def formula_tension(T, total_mass, a):\n",
    "    for i in range(0, len(T)):\n",
    "        T[i] = round( total_mass[i] * (g - a[i]), 3)\n",
    "    \n",
    "    print(T)\n",
    "formula_tension(T, total_mass, a)"
   ]
  },
  {
   "cell_type": "code",
   "execution_count": 53,
   "id": "594d1573",
   "metadata": {},
   "outputs": [
    {
     "name": "stdout",
     "output_type": "stream",
     "text": [
      "[0.024, 0.029, 0.028]\n"
     ]
    }
   ],
   "source": [
    "# Formula for axis_rotation: F (Tension) * Radius\n",
    "axis_rotation = [None] * 3\n",
    "def formula_a_rotation(axis_rotation, T, radius_pulley):\n",
    "    for i in range(0, len(axis_rotation)):\n",
    "        axis_rotation[i] = round( T[i] * radius_pulley ,3)\n",
    "    \n",
    "    print(axis_rotation)\n",
    "formula_a_rotation(axis_rotation, T, radius_pulley)"
   ]
  },
  {
   "cell_type": "code",
   "execution_count": 55,
   "id": "2e5f789e",
   "metadata": {},
   "outputs": [
    {
     "name": "stdout",
     "output_type": "stream",
     "text": [
      "[0.002, -0.001, 0.002]\n"
     ]
    }
   ],
   "source": [
    "# Formula for inertia_rotation: axis_rotation/angular_acceleration\n",
    "inertia_rotation = [None] * 3\n",
    "def formula_inertia_rotation(inertia_rotation, axis_rotation, angular_acceleration):\n",
    "    for i in range(0, len(inertia_rotation)):\n",
    "        inertia_rotation[i] = round( (axis_rotation[i]/angular_acceleration[i]) ,3)\n",
    "    \n",
    "    print(inertia_rotation)\n",
    "formula_inertia_rotation(inertia_rotation, axis_rotation, angular_acceleration)"
   ]
  },
  {
   "cell_type": "code",
   "execution_count": 57,
   "id": "abc32dae",
   "metadata": {},
   "outputs": [],
   "source": [
    "# Black Ring\n",
    "am = [.010, .020, .030]\n",
    "tm = [.15, .025, .035]\n",
    "\n",
    "tb1 = [.3, .2, .2]\n",
    "tb2 = [1.15, 0.65, 0.65]\n",
    "\n",
    "wb1 = [4.25, 13.56, 11.81]\n",
    "wb2 = [8.67, 17.45, 17.22]"
   ]
  },
  {
   "cell_type": "code",
   "execution_count": 59,
   "id": "05befaeb",
   "metadata": {},
   "outputs": [
    {
     "name": "stdout",
     "output_type": "stream",
     "text": [
      "[5.2, 8.644, 12.022]\n"
     ]
    }
   ],
   "source": [
    "# Angular Acceleration\n",
    "aa = [None] * 3\n",
    "formula_aa(aa, wb1, wb2, tb1, tb2)"
   ]
  },
  {
   "cell_type": "code",
   "execution_count": 60,
   "id": "d2ccfe2a",
   "metadata": {},
   "outputs": [
    {
     "name": "stdout",
     "output_type": "stream",
     "text": [
      "[0.13, 0.216, 0.301]\n"
     ]
    }
   ],
   "source": [
    "# Acceleration\n",
    "a2 = [None] * 3\n",
    "formula_a(a2, aa, radius_pulley)"
   ]
  },
  {
   "cell_type": "code",
   "execution_count": 62,
   "id": "dd3a98bf",
   "metadata": {},
   "outputs": [
    {
     "name": "stdout",
     "output_type": "stream",
     "text": [
      "[1.45, 0.24, 0.332]\n"
     ]
    }
   ],
   "source": [
    "# Tension\n",
    "T2 = [None] * 3\n",
    "formula_tension(T2, tm, a2)"
   ]
  },
  {
   "cell_type": "code",
   "execution_count": 66,
   "id": "d974a1ad",
   "metadata": {},
   "outputs": [
    {
     "name": "stdout",
     "output_type": "stream",
     "text": [
      "[0.036, 0.006, 0.008]\n"
     ]
    }
   ],
   "source": [
    "# Axis Rotation\n",
    "axis_rotation_2 = [None] * 3\n",
    "\n",
    "formula_a_rotation(axis_rotation_2, T2, radius_pulley)"
   ]
  },
  {
   "cell_type": "code",
   "execution_count": 69,
   "id": "3258c8e6",
   "metadata": {},
   "outputs": [
    {
     "name": "stdout",
     "output_type": "stream",
     "text": [
      "[0.007, 0.001, 0.001]\n"
     ]
    }
   ],
   "source": [
    "# Inertia Rotation\n",
    "inertia_rotation_2 = [None] * 3\n",
    "\n",
    "formula_inertia_rotation(inertia_rotation_2, axis_rotation_2, aa)"
   ]
  },
  {
   "cell_type": "code",
   "execution_count": 72,
   "id": "3e31883c",
   "metadata": {},
   "outputs": [
    {
     "name": "stdout",
     "output_type": "stream",
     "text": [
      "0.001\n"
     ]
    }
   ],
   "source": [
    "# Average Inertia Rotation (Silver Disk)\n",
    "avg_inertia_sd = (inertia_rotation[0] + inertia_rotation[1] + inertia_rotation[2])/len(inertia_rotation)\n",
    "\n",
    "print(avg_inertia_sd)"
   ]
  },
  {
   "cell_type": "code",
   "execution_count": 74,
   "id": "3ea2f123",
   "metadata": {},
   "outputs": [
    {
     "name": "stdout",
     "output_type": "stream",
     "text": [
      "0.0030000000000000005\n"
     ]
    }
   ],
   "source": [
    "# Average Inertia Rotation (Black Ring)\n",
    "avg_inertia_br = (inertia_rotation_2[0] + inertia_rotation_2[1] + inertia_rotation_2[2])/len(inertia_rotation_2)\n",
    "\n",
    "print(avg_inertia_br)"
   ]
  },
  {
   "cell_type": "code",
   "execution_count": 76,
   "id": "6e1f727d",
   "metadata": {},
   "outputs": [
    {
     "name": "stdout",
     "output_type": "stream",
     "text": [
      "0.015\n"
     ]
    }
   ],
   "source": [
    "# Theortical Value of Inertia Rotation\n",
    "thv_ir = round( ((1/2) * (0.468) * (.0254 + .03675)), 3)\n",
    "\n",
    "print(thv_ir)"
   ]
  }
 ],
 "metadata": {
  "kernelspec": {
   "display_name": "Python 3",
   "language": "python",
   "name": "python3"
  },
  "language_info": {
   "codemirror_mode": {
    "name": "ipython",
    "version": 3
   },
   "file_extension": ".py",
   "mimetype": "text/x-python",
   "name": "python",
   "nbconvert_exporter": "python",
   "pygments_lexer": "ipython3",
   "version": "3.8.8"
  }
 },
 "nbformat": 4,
 "nbformat_minor": 5
}
