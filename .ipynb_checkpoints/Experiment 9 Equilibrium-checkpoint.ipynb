{
 "cells": [
  {
   "cell_type": "code",
   "execution_count": 3,
   "id": "bd64f8b7",
   "metadata": {},
   "outputs": [],
   "source": [
    "import numpy as np\n",
    "import matplotlib.pyplot as plt"
   ]
  },
  {
   "cell_type": "code",
   "execution_count": 22,
   "id": "547c753a",
   "metadata": {},
   "outputs": [],
   "source": [
    "# Procedure A\n",
    "m = 5\n",
    "ad_m = .013\n",
    "ad_m_90 = .015 \n",
    "g = 9.8\n",
    "\n",
    "f1 = ad_m * g\n",
    "f2 = ad_m_90 * g"
   ]
  },
  {
   "cell_type": "code",
   "execution_count": 23,
   "id": "74204ad8",
   "metadata": {},
   "outputs": [
    {
     "name": "stdout",
     "output_type": "stream",
     "text": [
      "229.08561677997488\n"
     ]
    }
   ],
   "source": [
    "predicted_angle_pulley = 180 + np.degrees(np.arctan(f2/f1))\n",
    "\n",
    "print(predicted_angle_pulley)"
   ]
  },
  {
   "cell_type": "code",
   "execution_count": 24,
   "id": "10e38d3a",
   "metadata": {},
   "outputs": [
    {
     "name": "stdout",
     "output_type": "stream",
     "text": [
      "0.019849433241279205\n"
     ]
    }
   ],
   "source": [
    "predicted_angle_equilibrium = np.sqrt((f1**2)+(f2**2)) / g\n",
    "\n",
    "print(predicted_angle_equilibrium)"
   ]
  },
  {
   "cell_type": "code",
   "execution_count": 36,
   "id": "42b92822",
   "metadata": {},
   "outputs": [
    {
     "data": {
      "text/plain": [
       "[0.112, 0.112]"
      ]
     },
     "execution_count": 36,
     "metadata": {},
     "output_type": "execute_result"
    }
   ],
   "source": [
    "# Procedure B\n",
    "length_balance = 0.344 # m\n",
    "distance_holes = round(length_balance / 6, 3)\n",
    "\n",
    "f_mass = round(.20 * g, 3)\n",
    "f_mass_2 = round(.10 * g, 3)\n",
    "\n",
    "torque = [round(f_mass * distance_holes, 3), round(f_mass_2 * (distance_holes*2), 3)]\n",
    "torque"
   ]
  },
  {
   "cell_type": "code",
   "execution_count": 38,
   "id": "70e049f7",
   "metadata": {},
   "outputs": [
    {
     "data": {
      "text/plain": [
       "0.7797990899999999"
      ]
     },
     "execution_count": 38,
     "metadata": {},
     "output_type": "execute_result"
    }
   ],
   "source": [
    "# Experiment 5 real quick\n",
    ".40467**2/.21"
   ]
  }
 ],
 "metadata": {
  "kernelspec": {
   "display_name": "Python 3",
   "language": "python",
   "name": "python3"
  },
  "language_info": {
   "codemirror_mode": {
    "name": "ipython",
    "version": 3
   },
   "file_extension": ".py",
   "mimetype": "text/x-python",
   "name": "python",
   "nbconvert_exporter": "python",
   "pygments_lexer": "ipython3",
   "version": "3.8.8"
  }
 },
 "nbformat": 4,
 "nbformat_minor": 5
}
